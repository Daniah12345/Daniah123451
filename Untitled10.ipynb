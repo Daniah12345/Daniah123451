{
  "nbformat": 4,
  "nbformat_minor": 0,
  "metadata": {
    "colab": {
      "provenance": [],
      "toc_visible": true,
      "authorship_tag": "ABX9TyPCKKoUy4ABnkRMDQo2GSuL",
      "include_colab_link": true
    },
    "kernelspec": {
      "name": "python3",
      "display_name": "Python 3"
    },
    "language_info": {
      "name": "python"
    }
  },
  "cells": [
    {
      "cell_type": "markdown",
      "metadata": {
        "id": "view-in-github",
        "colab_type": "text"
      },
      "source": [
        "<a href=\"https://colab.research.google.com/github/Daniah12345/Daniah123451/blob/main/Untitled10.ipynb\" target=\"_parent\"><img src=\"https://colab.research.google.com/assets/colab-badge.svg\" alt=\"Open In Colab\"/></a>"
      ]
    },
    {
      "cell_type": "markdown",
      "source": [
        "# **1)** Define two variables price_item1 and price_item2 with the prices of two items, calculate and print the total price of both items"
      ],
      "metadata": {
        "id": "YJbudqF5fcBF"
      }
    },
    {
      "cell_type": "code",
      "source": [
        "price_item1=\"100$\"\n",
        "price_item2=\"200$\"\n",
        "Total_price=int(price_item1.strip(\"$\"))+int(price_item2.strip(\"$\"))\n",
        "print(f\" the price of the item1:{price_item1}and the  price of the item2:{price_item2}and the total price of them:{ Total_price}$\")"
      ],
      "metadata": {
        "id": "BSEsOQw7LS5T",
        "colab": {
          "base_uri": "https://localhost:8080/"
        },
        "outputId": "dca48d77-3979-488a-f55d-b3bdb9c38638"
      },
      "execution_count": null,
      "outputs": [
        {
          "output_type": "stream",
          "name": "stdout",
          "text": [
            " the price of the item1:100$and the  price of the item2:200$and the total price of them:300$\n"
          ]
        }
      ]
    },
    {
      "cell_type": "markdown",
      "source": [
        "# **2**)Define two variables num_1 and num_2, add them together, and then subtract 3 from the result and print the final result"
      ],
      "metadata": {
        "id": "NUVDwPd-fMoY"
      }
    },
    {
      "cell_type": "code",
      "source": [
        "num_1=input(\"Plz enter the first number:\")\n",
        "num_2=input(\"Plz enter the second number:\")\n",
        "final_result=int(num_1)+int(num_2)-3\n",
        "print(f\"final result:{final_result}\")"
      ],
      "metadata": {
        "colab": {
          "base_uri": "https://localhost:8080/"
        },
        "id": "v8exVzg4fAZV",
        "outputId": "91066f00-0be9-4aa6-bd23-478ce8f993c2"
      },
      "execution_count": null,
      "outputs": [
        {
          "output_type": "stream",
          "name": "stdout",
          "text": [
            "Plz enter the first number:10\n",
            "Plz enter the second number:20\n",
            "final result:27\n"
          ]
        }
      ]
    },
    {
      "cell_type": "markdown",
      "source": [
        "# **3)** Define two variables the first one named city and the second one named street and print them using formatted string"
      ],
      "metadata": {
        "id": "WQ44GwBalmdB"
      }
    },
    {
      "cell_type": "code",
      "source": [
        "city=input(\"Plz enter the city:\")\n",
        "street=input(\"Plz enter the street:\")\n",
        "print(f\"city:{city} and street:{street}\")"
      ],
      "metadata": {
        "colab": {
          "base_uri": "https://localhost:8080/"
        },
        "id": "UzL43jYlpeI4",
        "outputId": "cce5bfb7-3745-45b6-aa9b-6915bfedeea3"
      },
      "execution_count": null,
      "outputs": [
        {
          "output_type": "stream",
          "name": "stdout",
          "text": [
            "Plz enter the city:Amman\n",
            "Plz enter the street:Abdullah Ghosheh Street\n",
            "city:Amman and street:Abdullah Ghosheh Street\n"
          ]
        }
      ]
    },
    {
      "cell_type": "markdown",
      "source": [
        "# **4)**Define a variable named fruit that stores your favourite fruit and then replace any letter inside the string with the letter"
      ],
      "metadata": {
        "id": "ml4tvDqYtdal"
      }
    },
    {
      "cell_type": "code",
      "source": [
        "fav_fruit=input(\"PLZ enter your favourite fruit:\")\n",
        "print(f\"After replace the first letter with g ,the word is :{fav_fruit.replace(fav_fruit[0],'g')}\")"
      ],
      "metadata": {
        "colab": {
          "base_uri": "https://localhost:8080/"
        },
        "id": "evf-sZ57qVOb",
        "outputId": "07b3a88b-7376-4fcd-a94b-efec7cde7b9b"
      },
      "execution_count": null,
      "outputs": [
        {
          "output_type": "stream",
          "name": "stdout",
          "text": [
            "PLZ enter your favourite fruit:apple\n",
            "After replace the first letter with g ,the word is :gpple\n"
          ]
        }
      ]
    },
    {
      "cell_type": "markdown",
      "source": [
        "# **5)**Define any string and count the number of occurrences of a character in the string, example if the string contains \"mrmr\" and I need to count how many (m) inside string the output should be 2 (do your research about the function that count the number of occurrences of a character in the string)\n",
        "\n",
        "\n",
        "> Add blockquote\n",
        "\n"
      ],
      "metadata": {
        "id": "6GiGyGLG15kb"
      }
    },
    {
      "cell_type": "code",
      "source": [
        "str=input(\"Plz enter the string :\")\n",
        "str_=str.upper()\n",
        "char=input(\"Plz enter any char inside the string :\")\n",
        "char_=char.upper()\n",
        "count_char=str_.count(char_)\n",
        "print(f\"the number of occurrences of a character in the string:{count_char}\")"
      ],
      "metadata": {
        "colab": {
          "base_uri": "https://localhost:8080/"
        },
        "id": "78xHHel42LOD",
        "outputId": "98417ffe-d3df-479a-987a-9905e6ab879e"
      },
      "execution_count": null,
      "outputs": [
        {
          "output_type": "stream",
          "name": "stdout",
          "text": [
            "Plz enter the string :Dania\n",
            "Plz enter any char inside the string :A\n",
            "the number of occurrences of a character in the string:2\n"
          ]
        }
      ]
    },
    {
      "cell_type": "markdown",
      "source": [],
      "metadata": {
        "id": "Zy_ZTdE2ywk_"
      }
    }
  ]
}